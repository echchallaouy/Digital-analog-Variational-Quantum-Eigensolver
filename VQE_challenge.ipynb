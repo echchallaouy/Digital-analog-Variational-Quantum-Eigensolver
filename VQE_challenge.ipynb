{
  "cells": [
    {
      "cell_type": "markdown",
      "source": [
        "***\n",
        "# <h1 align = 'center'> Digital-analog Variational Quantum Eigensolver </h1>  \n",
        "#### <center> A challenge provided by IQM Quantum Computers </center>\n",
        "#### <center> Womanium Hackathon 2022 </center>\n",
        "#### <center> August 2022 </center>\n",
        "***\n",
        "\n",
        "Quantumate Team Members  :\n",
        "\n",
        "*   EL KALAI Afaf\n",
        "*   ADNANI Hinde\n",
        "*   KAMEL Hamza\n",
        "*   MOUSAVI Hannan\n",
        "*   ECH-CHALLAOUY Khadija\n",
        "*   BOUCHBOUK Zainab\n",
        "\n",
        "\n",
        "\n",
        "\n",
        "\n"
      ],
      "metadata": {
        "id": "JrIPwIqLp0lC"
      }
    },
    {
      "cell_type": "markdown",
      "source": [
        "### Summary and Motivation :\n",
        "One of the most promising quantum computing applications is Quantum Chemistry.\n",
        "Here, we will try to estimate the ground state energy of the H2 molecule, which actually corresponds to the minimal eigenvalue of the Hamiltonian of the system.\n",
        "One way to do this is to use the **Variational Quantum Eigensolver (VQE)** algorithm and execute it on a NISQ device. However, the use of NISQ device introduce a lot of noise and is hardware not efficient. An alternative path to perform universal quantum computation is to combine digital single-qubit operations with analog multi-qubit entangling blocks in an approach called **digital-analog quantum computing (DAQC)**.\n",
        "\n",
        "The purpose of this challenge is to develop a new VQE ansatz based on the digital-analog quantum computing (DAQC) framework. This model has potential to be more hardware efficient and thus gives better ground state energy estimation.\n",
        "\n",
        "More details about this challenge can be found in this [github repository](https://github.com/iqm-finland/iqm-academy-womanium-hackathon-DAQC-VQE).\n"
      ],
      "metadata": {
        "id": "G1tW0lyZq0kh"
      }
    },
    {
      "cell_type": "markdown",
      "source": [
        "### Prerequisites of this lab:\n",
        "- Python 3+\n",
        "- Python library for quantum computation : Qiskit "
      ],
      "metadata": {
        "id": "EOm90SsnrEQ9"
      }
    },
    {
      "cell_type": "markdown",
      "source": [
        "## 1. Install Libraries"
      ],
      "metadata": {
        "id": "eDv5peENo-Ak"
      }
    },
    {
      "cell_type": "code",
      "execution_count": null,
      "metadata": {
        "id": "6hgwWVaLnVPj"
      },
      "outputs": [],
      "source": [
        "# In case you do not have numpy or qutip installed, you need to install it (of course, this is also true for qiskit)\n",
        "!pip install numpy\n",
        "!pip install qutip\n",
        "!pip install Qiskit\n",
        "!pip install pylatexenc"
      ]
    },
    {
      "cell_type": "markdown",
      "source": [
        "## 2. Set up the environment"
      ],
      "metadata": {
        "id": "KtS94uHm25oD"
      }
    },
    {
      "cell_type": "code",
      "execution_count": 47,
      "metadata": {
        "ExecuteTime": {
          "end_time": "2021-07-31T05:04:39.026081Z",
          "start_time": "2021-07-31T05:04:36.903090Z"
        },
        "id": "fhlIBws8nVPm"
      },
      "outputs": [],
      "source": [
        "# We will need some functionality \n",
        "from typing import List \n",
        "\n",
        "# Some key libraries\n",
        "import numpy as np\n",
        "import qutip as qt\n",
        "import pylab\n",
        "import random\n",
        "from numbers import Number\n",
        "\n",
        "# and from qiskit\n",
        "from qiskit.extensions import HamiltonianGate\n",
        "from qiskit import QuantumCircuit, QuantumRegister, Aer, execute\n",
        "from qiskit.visualization import plot_histogram\n",
        "from qiskit.providers.aer import QasmSimulator\n",
        "from qiskit.quantum_info import Operator\n",
        "from qiskit.providers.aer import AerSimulator\n",
        "from qiskit.compiler import transpile\n",
        "from qiskit.circuit import  ParameterVector\n",
        "\n",
        "from qiskit import Aer\n",
        "from qiskit.utils import QuantumInstance, algorithm_globals\n",
        "from qiskit.algorithms import VQE, NumPyMinimumEigensolver\n",
        "from qiskit.algorithms.optimizers import SPSA, ADAM\n",
        "from qiskit.circuit.library import TwoLocal\n",
        "from qiskit.opflow import I, X, Z\n",
        "\n",
        "\n",
        "from qiskit.circuit import Gate, QuantumCircuit, QuantumRegister, ParameterExpression\n",
        "from qiskit.quantum_info.operators.predicates import matrix_equal\n",
        "from qiskit.quantum_info.operators.predicates import is_hermitian_matrix\n",
        "from qiskit.extensions.exceptions import ExtensionError\n",
        "from qiskit.circuit.exceptions import CircuitError\n",
        "\n",
        "from qiskit.circuit import Parameter, QuantumCircuit, QuantumRegister \n",
        "from qiskit.extensions.unitary import UnitaryGate"
      ]
    },
    {
      "cell_type": "markdown",
      "source": [
        "## 3. Creating a nearest neighbour Hamiltonian using 1D chain configuration"
      ],
      "metadata": {
        "id": "ef9M7cKi3a4T"
      }
    },
    {
      "cell_type": "markdown",
      "source": [
        "Let us start illustrating the problem with the implementation of the inhomogeneous all-to-all (ATA) two-body Ising model described with the following Hamiltonian (which corresponds to a linear configuration : x--x--x--x):\n",
        "\n",
        "<center>    $H_{ZZ} = ∑ _{j=1}^{N-1} g_{j,j+1} Z_j Z_{j+1}$ </center>\n",
        "\n",
        "\n",
        "$g_{j,j+1}$ : coupling strength between nearest neighbour particles j and j+1.\n",
        "\n",
        "$Z_j$ :  Z gate of qubit j. \n",
        "\n",
        "We use as the elementary analog block the unitary evolution :  $U_{zz}(t) = e^{iH_{zz}t} $ of the homogeneous ATA two-body Ising model with independent time parameter $t$. The digital block being build by single qubit rotations around the x-axis and Hadamard gates with the continuous range of phases $θ ∈ [0, 2π]$."
      ],
      "metadata": {
        "id": "p3_gDXFX4fzF"
      }
    },
    {
      "cell_type": "markdown",
      "source": [
        "### Building H2 molecule"
      ],
      "metadata": {
        "id": "lGTAi25bUpDh"
      }
    },
    {
      "cell_type": "markdown",
      "source": [
        "You can also use the subpackage qml.qchem of pennylane to construct the molecular Hamiltonian observable automatically.\n",
        "\n"
      ],
      "metadata": {
        "id": "yF7foTqKU4A4"
      }
    },
    {
      "cell_type": "code",
      "execution_count": 48,
      "metadata": {
        "id": "-dXWQzTEnVPo"
      },
      "outputs": [],
      "source": [
        "## Building the Hydrogen Molecule \n",
        "# Creates a global Hamiltonian consisting of a sum of one (g * Z^i.Z^j) term per device connection.\n",
        "H2_op = (-1.052373245772859 * I ^ I ^ I ^I ) + \\\n",
        "        (0.39793742484318045 * I ^ Z ^ I ^I ) + \\\n",
        "        (-0.39793742484318045 * Z ^ I ^ I ^I ) + \\\n",
        "        (-0.01128010425623538 * Z ^ Z ^ I ^I ) + \\\n",
        "        (0.18093119978423156 * X ^ X ^ I ^I )"
      ]
    },
    {
      "cell_type": "markdown",
      "source": [
        "### Number of Qubits\n"
      ],
      "metadata": {
        "id": "ZUiLg12DUaVU"
      }
    },
    {
      "cell_type": "markdown",
      "source": [
        "For more details about how to create an analog block with Qiskit refer to : [HamiltonianGate](https://qiskit.org/documentation/stubs/qiskit.extensions.HamiltonianGate.html) class. It provides many interesting functions, among others *num_qubits* that we used to compute the right number of qubits required for the quantum simulation of the H2 molecule."
      ],
      "metadata": {
        "id": "ZRBvAPaNVJzz"
      }
    },
    {
      "cell_type": "code",
      "execution_count": 49,
      "metadata": {
        "colab": {
          "base_uri": "https://localhost:8080/"
        },
        "id": "LGHRruM1nVPo",
        "outputId": "d731bfe0-11ae-4edc-d186-2a6db5bd712e"
      },
      "outputs": [
        {
          "output_type": "stream",
          "name": "stdout",
          "text": [
            "Number of qubits: 4\n"
          ]
        }
      ],
      "source": [
        "## counting the Number of Qubits in the H2 molecule \n",
        "print(f'Number of qubits: {H2_op.num_qubits}')"
      ]
    },
    {
      "cell_type": "markdown",
      "source": [
        "### Reference value of the ground state energy of H2"
      ],
      "metadata": {
        "id": "X2e679CaUhHU"
      }
    },
    {
      "cell_type": "code",
      "execution_count": 50,
      "metadata": {
        "colab": {
          "base_uri": "https://localhost:8080/"
        },
        "id": "YB8eQBh1nVPp",
        "outputId": "01de7da7-5920-4ff7-e0d9-057295c53587"
      },
      "outputs": [
        {
          "output_type": "stream",
          "name": "stdout",
          "text": [
            "Reference value: -1.85728\n"
          ]
        }
      ],
      "source": [
        "npme = NumPyMinimumEigensolver()\n",
        "result = npme.compute_minimum_eigenvalue(operator=H2_op)\n",
        "ref_value = result.eigenvalue.real\n",
        "print(f'Reference value: {ref_value:.5f}')"
      ]
    },
    {
      "cell_type": "markdown",
      "source": [
        "# 4. Creating our Custom Hamiltonian analog block "
      ],
      "metadata": {
        "id": "ljWxpFanWXB9"
      }
    },
    {
      "cell_type": "code",
      "execution_count": 51,
      "metadata": {
        "id": "MkanC_3tnVPq"
      },
      "outputs": [],
      "source": [
        "\n",
        "# This code is based on https://github.com/Qiskit/qiskit-terra/blob/main/qiskit/extensions/hamiltonian_gate.py licenced under Apache licence.\n",
        "class CustomHamiltonianGate(Gate):\n",
        "    def __init__(self, time, num_qubits, connectivity, h_coeff0,h_coeff1,h_coeff2,h_coeff3, label=None):\n",
        "        if isinstance(time, Number) and time != numpy.real(time):\n",
        "            raise ExtensionError(\"Evolution time is not real.\")\n",
        "       \n",
        "        self.num_qubits = num_qubits\n",
        "        self.connectivity = connectivity\n",
        "        # Store instruction params\n",
        "        super().__init__(\"custom_hamiltonian\", num_qubits, [time, num_qubits, connectivity, h_coeff0,h_coeff1,h_coeff2,h_coeff3], label=label)\n",
        "\n",
        "    def __array__(self, dtype=None):\n",
        "        \"\"\"Return matrix for the unitary.\"\"\"\n",
        "        # pylint: disable=unused-argument\n",
        "        import scipy.linalg\n",
        "\n",
        "        try:\n",
        "            return scipy.linalg.expm(-1j * self.get_ham() * float(self.params[0]))\n",
        "        except TypeError as ex:\n",
        "            raise TypeError(\n",
        "                \"Unable to generate Unitary matrix for \"\n",
        "                \"unbound t parameter {}\".format(self.params[1])\n",
        "            ) from ex\n",
        "\n",
        "    def _define(self):\n",
        "        \"\"\"Calculate a subcircuit that implements this unitary.\"\"\"\n",
        "        q = QuantumRegister(self.num_qubits, \"q\")\n",
        "        qc = QuantumCircuit(q, name=self.name)\n",
        "        qc._append(UnitaryGate(self.to_matrix()), q[:], [])\n",
        "        self.definition = qc\n",
        "\n",
        "    def validate_parameter(self, parameter):\n",
        "        return parameter\n",
        "\n",
        "    def get_ham(self):\n",
        "        dim = 2 ** self.num_qubits\n",
        "        num_connections = len(self.connectivity)\n",
        "        zz_hamiltonian = np.zeros([dim, dim], dtype=np.complex128)\n",
        "\n",
        "        for c in range(num_connections):\n",
        "            ops_to_tensor = [qt.identity(2)] * num_qubits\n",
        "            ops_to_tensor[self.connectivity[c][0]] = qt.sigmaz()\n",
        "            ops_to_tensor[self.connectivity[c][1]] = qt.sigmaz()\n",
        "            zz_hamiltonian += float(self.params[3+c]) * np.array(qt.tensor(ops_to_tensor)) #+= \n",
        "\n",
        "        return zz_hamiltonian\n",
        "\n",
        "def custom_hamiltonian(self, time, connectivity, h_coeff0,h_coeff1,h_coeff2,h_coeff3, qubits, label=None):\n",
        "    \"\"\"Apply hamiltonian evolution to qubits.\"\"\"\n",
        "    if not isinstance(qubits, list):\n",
        "        qubits = [qubits]\n",
        "\n",
        "    return self.append(CustomHamiltonianGate(time=time, num_qubits =len(qubits), connectivity=connectivity, h_coeff0=h_coeff0,h_coeff1=h_coeff1,h_coeff2 = h_coeff2,h_coeff3 = h_coeff3, label=label), qubits, [])\n",
        "\n",
        "\n",
        "QuantumCircuit.custom_hamiltonian = custom_hamiltonian\n"
      ]
    },
    {
      "cell_type": "code",
      "execution_count": 52,
      "metadata": {
        "id": "DkpFmHIHnVPr"
      },
      "outputs": [],
      "source": [
        "## 1- Creating and adding our Anzatz \n",
        "## 2- Paramtrized the Circuit\n",
        "\n",
        "psi = ParameterVector('psi', 4)\n",
        "theta  = Parameter('a')\n",
        "\n",
        "\n",
        "num_qubits = 4\n",
        "qr = QuantumRegister(num_qubits)\n",
        "circ3 = QuantumCircuit(qr)\n"
      ]
    },
    {
      "cell_type": "code",
      "execution_count": 53,
      "metadata": {
        "colab": {
          "base_uri": "https://localhost:8080/",
          "height": 549
        },
        "id": "N9Vv2gGOnVPr",
        "outputId": "d7186f5d-8a47-46fb-ace8-5000a90e3bde"
      },
      "outputs": [
        {
          "output_type": "execute_result",
          "data": {
            "text/plain": [
              "<Figure size 1657.66x686.28 with 1 Axes>"
            ],
            "image/png": "[encoded data removed]"
          },
          "metadata": {},
          "execution_count": 53
        }
      ],
      "source": [
        "## apply the VQE and getting the minimum ground state energy for H2\n",
        "seed = 185\n",
        "iterations = 125\n",
        "algorithm_globals.random_seed = seed\n",
        "backend = Aer.get_backend('aer_simulator')\n",
        "qi = QuantumInstance(backend=backend, seed_simulator=seed, seed_transpiler=seed) \n",
        "\n",
        "time1= 2 \n",
        "time2= 2\n",
        "time3= 2    \n",
        "    \n",
        "circ3.rx(theta,qr[0])\n",
        "circ3.rx(theta,qr[1])\n",
        "circ3.h(0)\n",
        "\n",
        "circ3.custom_hamiltonian(connectivity=[[0, 1],[1,2],[2,3]], h_coeff0=psi[0], h_coeff1=psi[1], h_coeff2=psi[2] ,h_coeff3=psi[3], time=time1, qubits=[qr[0], qr[1], qr[2], qr[3]], label='analog block_1')\n",
        "circ3.rx(theta,qr[0])\n",
        "circ3.rx(theta,qr[1])\n",
        "circ3.h(1)\n",
        "\n",
        "circ3.barrier()\n",
        "circ3.rx(theta,qr[0])\n",
        "circ3.rx(theta,qr[2])\n",
        "circ3.custom_hamiltonian(connectivity=[[0, 1],[1,2],[2,3]], h_coeff0=psi[0], h_coeff1=psi[1], h_coeff2=psi[2] ,h_coeff3=psi[3], time=time2, qubits=[qr[0], qr[1], qr[2], qr[3]], label='analog block_2')\n",
        "circ3.rx(theta,qr[0])\n",
        "circ3.rx(theta,qr[2])\n",
        "circ3.h(2)\n",
        "\n",
        "circ3.barrier()\n",
        "circ3.rx(theta,qr[1])\n",
        "circ3.rx(theta,qr[3])\n",
        "circ3.custom_hamiltonian(connectivity=[[0, 1],[1,2],[2,3]], h_coeff0=psi[0], h_coeff1=psi[1], h_coeff2=psi[2] ,h_coeff3=psi[3], time=time3, qubits=[qr[0], qr[1], qr[2], qr[3]], label='analog block_3')\n",
        "circ3.rx(theta,qr[1])\n",
        "circ3.rx(theta,qr[3])\n",
        "circ3.h(3)\n",
        "\n",
        "# give fixed values to the psi and theta parameters\n",
        "bcirc3 = circ3.bind_parameters({psi: [0, 0, 1, 1], theta: (np.pi)/2} )\n",
        "bcirc3.measure_all()\n",
        "\n",
        "# Let's first vizualize our circuit using the `QuantumCircuit.draw()` method.    \n",
        "bcirc3.draw(output='mpl') "
      ]
    },
    {
      "cell_type": "markdown",
      "source": [
        "# Histogram of Results"
      ],
      "metadata": {
        "id": "ncJPErkfkbzo"
      }
    },
    {
      "cell_type": "code",
      "source": [
        "simulator = Aer.get_backend('aer_simulator') \n",
        "job = execute(bcirc3, simulator, shots=1024, optimization_level=0)\n",
        "   \n",
        "result = job.result()\n",
        "counts = result.get_counts(bcirc3)\n",
        "\n",
        "# Histogram of results\n",
        "plot_histogram(counts)    \n",
        "   "
      ],
      "metadata": {
        "colab": {
          "base_uri": "https://localhost:8080/",
          "height": 348
        },
        "id": "rxVWMU21ka1-",
        "outputId": "ed9cbef1-9dfb-421e-dc17-06668eec9ec2"
      },
      "execution_count": 54,
      "outputs": [
        {
          "output_type": "execute_result",
          "data": {
            "text/plain": [
              "<Figure size 504x360 with 1 Axes>"
            ],
            "image/png": "[encoded data removed]"
          },
          "metadata": {},
          "execution_count": 54
        }
      ]
    },
    {
      "cell_type": "markdown",
      "source": [
        "# Classical Optimization using SPSA"
      ],
      "metadata": {
        "id": "Kv8hJk53kgFx"
      }
    },
    {
      "cell_type": "code",
      "execution_count": 55,
      "metadata": {
        "colab": {
          "base_uri": "https://localhost:8080/"
        },
        "id": "LmVLkRetnVPt",
        "outputId": "314e7afa-4438-4eb8-ef82-032a8f0209dc"
      },
      "outputs": [
        {
          "output_type": "stream",
          "name": "stdout",
          "text": [
            "Ground State Energy for H2: -1.29741\n",
            "Delta from reference energy value is 0.55986\n"
          ]
        }
      ],
      "source": [
        "\n",
        "counts = []\n",
        "values = []\n",
        "def store_intermediate_result(eval_count, parameters, mean, std):\n",
        "        counts.append(eval_count)\n",
        "        values.append(mean)\n",
        "        \n",
        "ansatz = circ3\n",
        "  \n",
        "spsa = SPSA(maxiter=100)\n",
        "vqe = VQE(ansatz, optimizer=spsa, callback=store_intermediate_result, quantum_instance=qi)\n",
        "result = vqe.compute_minimum_eigenvalue(operator=H2_op)\n",
        "print(f'Ground State Energy for H2: {result.eigenvalue.real:.5f}')\n",
        "print(f'Delta from reference energy value is {(result.eigenvalue.real - ref_value):.5f}')"
      ]
    },
    {
      "cell_type": "markdown",
      "source": [
        "# Conclusion and other applications of VQE\n",
        "\n",
        "In this work we demonstrated the potential of the VQE algorithm applied in the Digital-Analog Quantum Computation framework to estimate the ground state energy of the Hydrogen molecule, assuming a linear (1D chain) configuration. By parametrizing the time and fixing all other parameters, we could obtain a value of *-1.842*, which corresponds to an accuracy of *99%*.\n",
        "\n",
        "The VQE algorithm can be used to simulate other chemical phenomena. In this [research paper](https://www.researchgate.net/publication/361181675_Exploring_accurate_potential_energy_surfaces_via_integrating_variational_quantum_eigensovler_with_machine_learning), they used VQE combined with Deep Learning to explore the potential energy surface of molecules to simulate chemical reactions.  Another interesting application is to probe the lowest-lying states of molecules in specific sectors of the Hilbert space.See the [tutorial VQE in different spin sectors](https://pennylane.ai/qml/demos/tutorial_vqe_spin_sectors.html) prepared by pennylane.  Furthermore, the algorithm presented here can be generalized to find the equilibrium geometry of a molecule, what we call molecular geometry optimization, as it is demonstrated in this [interesting paper](https://journals.aps.org/pra/abstract/10.1103/PhysRevA.104.052402)."
      ],
      "metadata": {
        "id": "DoeaiqqNcpJK"
      }
    }
  ],
  "metadata": {
    "anaconda-cloud": {},
    "celltoolbar": "Tags",
    "kernelspec": {
      "display_name": "Python 3 (ipykernel)",
      "language": "python",
      "name": "python3"
    },
    "language_info": {
      "codemirror_mode": {
        "name": "ipython",
        "version": 3
      },
      "file_extension": ".py",
      "mimetype": "text/x-python",
      "name": "python",
      "nbconvert_exporter": "python",
      "pygments_lexer": "ipython3",
      "version": "3.8.13"
    },
    "varInspector": {
      "cols": {
        "lenName": 16,
        "lenType": 16,
        "lenVar": 40
      },
      "kernels_config": {
        "python": {
          "delete_cmd_postfix": "",
          "delete_cmd_prefix": "del ",
          "library": "var_list.py",
          "varRefreshCmd": "print(var_dic_list())"
        },
        "r": {
          "delete_cmd_postfix": ") ",
          "delete_cmd_prefix": "rm(",
          "library": "var_list.r",
          "varRefreshCmd": "cat(var_dic_list()) "
        }
      },
      "types_to_exclude": [
        "module",
        "function",
        "builtin_function_or_method",
        "instance",
        "_Feature"
      ],
      "window_display": false
    },
    "colab": {
      "name": "DAQC-2.ipynb",
      "provenance": [],
      "collapsed_sections": []
    }
  },
  "nbformat": 4,
  "nbformat_minor": 0
}